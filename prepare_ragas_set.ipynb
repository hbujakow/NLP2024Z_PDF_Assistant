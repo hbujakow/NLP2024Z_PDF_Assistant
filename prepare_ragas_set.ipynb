{
 "cells": [
  {
   "cell_type": "code",
   "execution_count": 2,
   "metadata": {},
   "outputs": [],
   "source": [
    "from tqdm import tqdm"
   ]
  },
  {
   "cell_type": "code",
   "execution_count": null,
   "metadata": {},
   "outputs": [],
   "source": [
    "# Initialize model\n",
    "from mini.inference import MINI\n",
    "mini = MINI(model_name='meta-llama/Llama-3.2-3B-Instruct')"
   ]
  },
  {
   "cell_type": "code",
   "execution_count": 4,
   "metadata": {},
   "outputs": [],
   "source": [
    "sample_queries = [\n",
    "    # unix l1\n",
    "    \"What does FLOSS stand for and what are its key freedoms?\",\n",
    "    \"What is the difference between GNU GPL and BSD licenses?\",\n",
    "    \"What is the historical significance of AT&T in the development of Unix?\",\n",
    "    \"What is the principle of modularity in Unix systems?\",\n",
    "    \"How does the Unix principle of privilege separation enhance security?\",\n",
    "    #unix lecture 5\n",
    "    \"What are the main files used for storing user account information in Unix systems?\",\n",
    "    \"How are users identified during login compared to file and process ownership in Unix?\",\n",
    "    \"What are the three types of accounts that can be found in Unix systems?\",\n",
    "    \"What is the purpose of the /etc/shadow file in Unix?\",\n",
    "    \"How does the chmod command modify file permissions in numeric mode?\",\n",
    "    #unix lecture 10\n",
    "    \"What is AWK used for?\",\n",
    "    \"How does AWK identify records and fields in a text file?\",\n",
    "    \"What is the purpose of the BEGIN and END sections in an AWK script?\",\n",
    "    \"Which special variable in AWK represents the current line being processed?\",\n",
    "    \"What is the default behavior of an AWK script when no condition is specified?\",\n",
    "    #aml bayes\n",
    "    \"What is the Bayes classifier and its optimality?\",\n",
    "    \"How is risk defined for a classification rule in Bayes theory?\",\n",
    "    \"What is the 0-1 loss function in classification?\",\n",
    "    \"How does the kernel density estimator work in empirical Bayes methods?\",\n",
    "    \"What are the remarks on the k-nearest neighbor (kNN) method?\",\n",
    "    #aml logistic\n",
    "    \"What is logistic regression based on?\",\n",
    "    \"What are some applications of logistic classification?\",\n",
    "    \"What estimation methods are used for logistic regression?\",\n",
    "    \"Why is the logistic function used to model probabilities in logistic regression?\",\n",
    "    \"What does the IRLS algorithm aim to compute in logistic regression?\",\n",
    "    #aml evaluation\n",
    "    \"What are the key measures for evaluating classifiers in a one-class approach?\",\n",
    "    \"How is precision calculated in the evaluation of classifiers?\",\n",
    "    \"What does FDR represent in classification evaluation?\",\n",
    "    \"What is the purpose of k-fold cross-validation in classification?\",\n",
    "    \"Why should resubstitution estimators not be used for comparing classifiers?\"\n",
    "]\n",
    "\n",
    "expected_responses = [\n",
    "    #unix l1\n",
    "    \"FLOSS stands for Free Libre Open Source Software, emphasizing freedoms to use, analyze, modify, and redistribute software along with access to source code.\",\n",
    "    \"GNU GPL ensures users' freedoms are protected via copyleft, requiring modifications to be distributed under the same license, while BSD licenses allow proprietary use by imposing fewer restrictions.\",\n",
    "    \"AT&T developed the first Unix system in 1969 and distributed it freely to universities, fostering significant advancements such as the TCP/IP stack at Berkeley.\",\n",
    "    \"The principle of modularity in Unix emphasizes creating simple, standalone components that can be combined into complex workflows, enabling flexibility and maintainability.\",\n",
    "    \"Privilege separation in Unix enhances security by assigning minimal required privileges to processes, using pseudo-users for services, and separating different file types into distinct directories.\",\n",
    "    #unix lecture 5\n",
    "    \"/etc/passwd provides user account information, /etc/shadow stores encrypted passwords and aging limits, and /etc/group specifies system groups.\",\n",
    "    \"During login, users are prompted for their names, but file and process ownership use numerical IDs (UIDs) and GIDs.\",\n",
    "    \"The three types of accounts in Unix systems are root (UID 0, GID 0) with unlimited privileges, regular users, and system accounts.\",\n",
    "    \"/etc/shadow stores encrypted passwords and aging limits, is not readable by regular users, and enhances security by moving encrypted passwords out of the publicly readable /etc/passwd file.\",\n",
    "    \"In numeric mode, chmod uses numbers (4 for read, 2 for write, and 1 for execute) to define permissions for user, group, and others.\",\n",
    "    #unix lecture 10\n",
    "    \"AWK is used for analyzing text files or text streams, treating them as databases where records are identified with lines and fields with blank-separated words.\",\n",
    "    \"AWK identifies records with lines and fields with blank-separated words by default, but the record separator (RS) and field separator (FS) variables can be redefined.\",\n",
    "    \"The BEGIN section in an AWK script is used for instructions executed before processing any input, and the END section is for instructions executed after processing all input.\",\n",
    "    \"The special variable $0 in AWK represents the current line being processed.\",\n",
    "    \"If no condition is specified in an AWK script, the default behavior is to print the current line to the standard output.\",\n",
    "    #aml bayes\n",
    "    \"The Bayes classifier minimizes the Bayes risk R(d) by selecting the decision rule d∗(x) = argmaxiπip(x|i). This makes it optimal as it achieves the lowest possible error for a given distribution.\",\n",
    "    \"The risk for a classification rule is defined as R(d) = EX,Y[l(Y, d(X))], where (X, Y) follows the joint distribution PX,Y. For the 0-1 loss function, it represents the probability of a misclassification.\",\n",
    "    \"The 0-1 loss function is defined as l0-1(i, j) = I(i ≠ j), where I is an indicator function. It incurs a loss of 1 for incorrect decisions and 0 otherwise.\",\n",
    "    \"The kernel density estimator approximates the density p(x) using a kernel function K and a smoothing parameter hn. It is calculated as ˆpn(x) = (1 / nhn) ∑ K((x − Xi) / hn), where the sum is over all data points Xi.\",\n",
    "    \"The kNN method classifies an observation based on the most frequent class among its k nearest neighbors. Larger values of k reduce variance, but small k values like 1 or 3 are often used. Spatial indexing can address its O(n) time complexity.\",\n",
    "    #aml logistic\n",
    "    \"Logistic regression is based on fitting a logistic regression model to the data, modeling the dependence of the response variable π(x) on predictors.\",\n",
    "    \"Logistic classification is used in applications like displaying adverts on web pages with keywords as predictors and reliability scoring of bank clients based on their profile.\",\n",
    "    \"Estimation methods for logistic regression include Maximum Likelihood (ML), Blyth estimator, Regularized estimators (Lasso and Ridge), and Iteratively Reweighted Least Squares (IRLS).\",\n",
    "    \"The logistic function is used because it maps values to a range between 0 and 1 and provides interpretable odds ratios, such as π(x)/(1-π(x)).\",\n",
    "    \"The IRLS algorithm iteratively computes the Weighted Least Squares estimator for modified responses to find the parameters of the logistic regression model.\",\n",
    "    #aml evaluation\n",
    "    \"In a one-class approach, key measures include False Discovery Rate (FDR), True Positive Rate (TPR), precision, and recall, focusing on the performance for the distinguished class.\",\n",
    "    \"Precision is calculated as the intersection of true positives (t ∩ ˆt) divided by the total predicted positives (ˆt).\",\n",
    "    \"FDR, or False Discovery Rate, represents the proportion of false positives among all predicted positives and is equal to 1 minus precision.\",\n",
    "    \"K-fold cross-validation is used to evaluate a classifier's performance by dividing data into K parts, training on K-1 parts, and testing on the remaining part to estimate error and reduce bias.\",\n",
    "    \"Resubstitution estimators should not be used for comparing classifiers as they are overly optimistic, especially when classifiers differ in the number of parameters, leading to misleading conclusions.\"\n",
    "]"
   ]
  },
  {
   "cell_type": "code",
   "execution_count": null,
   "metadata": {},
   "outputs": [],
   "source": [
    "dataset = []\n",
    "\n",
    "for query,reference in tqdm(zip(sample_queries,expected_responses)):\n",
    "    answer, sources = mini.query(query)\n",
    "    sources = [source['excerpt'] for source in sources]\n",
    "    dataset.append({\n",
    "        'question': query,\n",
    "        'retrieved_contexts': sources,\n",
    "        'response': answer,\n",
    "        'reference': reference\n",
    "    })"
   ]
  },
  {
   "cell_type": "code",
   "execution_count": 6,
   "metadata": {},
   "outputs": [],
   "source": [
    "import json\n",
    "with open('mini_dataset.json', 'w') as fout: \n",
    "    json.dump(dataset, fout)"
   ]
  }
 ],
 "metadata": {
  "kernelspec": {
   "display_name": "NLP",
   "language": "python",
   "name": "python3"
  },
  "language_info": {
   "codemirror_mode": {
    "name": "ipython",
    "version": 3
   },
   "file_extension": ".py",
   "mimetype": "text/x-python",
   "name": "python",
   "nbconvert_exporter": "python",
   "pygments_lexer": "ipython3",
   "version": "3.11.11"
  }
 },
 "nbformat": 4,
 "nbformat_minor": 2
}

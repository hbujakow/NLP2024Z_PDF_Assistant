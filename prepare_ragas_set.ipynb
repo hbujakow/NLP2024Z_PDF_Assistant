{
 "cells": [
  {
   "cell_type": "code",
   "execution_count": 2,
   "metadata": {},
   "outputs": [],
   "source": [
    "from tqdm import tqdm"
   ]
  },
  {
   "cell_type": "code",
   "execution_count": 3,
   "metadata": {},
   "outputs": [
    {
     "name": "stderr",
     "output_type": "stream",
     "text": [
      "c:\\Users\\ltoma\\anaconda3\\envs\\NLP\\Lib\\site-packages\\tqdm\\auto.py:21: TqdmWarning: IProgress not found. Please update jupyter and ipywidgets. See https://ipywidgets.readthedocs.io/en/stable/user_install.html\n",
      "  from .autonotebook import tqdm as notebook_tqdm\n",
      "Loading checkpoint shards: 100%|██████████| 2/2 [00:16<00:00,  8.45s/it]\n"
     ]
    },
    {
     "name": "stdout",
     "output_type": "stream",
     "text": [
      "LLM is explicitly disabled. Using MockLLM.\n"
     ]
    }
   ],
   "source": [
    "# Initialize model\n",
    "from mini.inference import MINI\n",
    "mini = MINI(model_name='meta-llama/Llama-3.2-3B-Instruct')"
   ]
  },
  {
   "cell_type": "code",
   "execution_count": 4,
   "metadata": {},
   "outputs": [],
   "source": [
    "sample_queries = [\n",
    "    # unix l1\n",
    "    \"What does FLOSS stand for and what are its key freedoms?\",\n",
    "    \"What is the difference between GNU GPL and BSD licenses?\",\n",
    "    \"What is the historical significance of AT&T in the development of Unix?\",\n",
    "    \"What is the principle of modularity in Unix systems?\",\n",
    "    \"How does the Unix principle of privilege separation enhance security?\",\n",
    "    #unix lecture 5\n",
    "    \"What are the main files used for storing user account information in Unix systems?\",\n",
    "    \"How are users identified during login compared to file and process ownership in Unix?\",\n",
    "    \"What are the three types of accounts that can be found in Unix systems?\",\n",
    "    \"What is the purpose of the /etc/shadow file in Unix?\",\n",
    "    \"How does the chmod command modify file permissions in numeric mode?\",\n",
    "    #unix lecture 10\n",
    "    \"What is AWK used for?\",\n",
    "    \"How does AWK identify records and fields in a text file?\",\n",
    "    \"What is the purpose of the BEGIN and END sections in an AWK script?\",\n",
    "    \"Which special variable in AWK represents the current line being processed?\",\n",
    "    \"What is the default behavior of an AWK script when no condition is specified?\",\n",
    "    #aml bayes\n",
    "    \"What is the Bayes classifier and its optimality?\",\n",
    "    \"How is risk defined for a classification rule in Bayes theory?\",\n",
    "    \"What is the 0-1 loss function in classification?\",\n",
    "    \"How does the kernel density estimator work in empirical Bayes methods?\",\n",
    "    \"What are the remarks on the k-nearest neighbor (kNN) method?\",\n",
    "    #aml logistic\n",
    "    \"What is logistic regression based on?\",\n",
    "    \"What are some applications of logistic classification?\",\n",
    "    \"What estimation methods are used for logistic regression?\",\n",
    "    \"Why is the logistic function used to model probabilities in logistic regression?\",\n",
    "    \"What does the IRLS algorithm aim to compute in logistic regression?\",\n",
    "    #aml evaluation\n",
    "    \"What are the key measures for evaluating classifiers in a one-class approach?\",\n",
    "    \"How is precision calculated in the evaluation of classifiers?\",\n",
    "    \"What does FDR represent in classification evaluation?\",\n",
    "    \"What is the purpose of k-fold cross-validation in classification?\",\n",
    "    \"Why should resubstitution estimators not be used for comparing classifiers?\"\n",
    "]\n",
    "\n",
    "expected_responses = [\n",
    "    #unix l1\n",
    "    \"FLOSS stands for Free Libre Open Source Software, emphasizing freedoms to use, analyze, modify, and redistribute software along with access to source code.\",\n",
    "    \"GNU GPL ensures users' freedoms are protected via copyleft, requiring modifications to be distributed under the same license, while BSD licenses allow proprietary use by imposing fewer restrictions.\",\n",
    "    \"AT&T developed the first Unix system in 1969 and distributed it freely to universities, fostering significant advancements such as the TCP/IP stack at Berkeley.\",\n",
    "    \"The principle of modularity in Unix emphasizes creating simple, standalone components that can be combined into complex workflows, enabling flexibility and maintainability.\",\n",
    "    \"Privilege separation in Unix enhances security by assigning minimal required privileges to processes, using pseudo-users for services, and separating different file types into distinct directories.\",\n",
    "    #unix lecture 5\n",
    "    \"/etc/passwd provides user account information, /etc/shadow stores encrypted passwords and aging limits, and /etc/group specifies system groups.\",\n",
    "    \"During login, users are prompted for their names, but file and process ownership use numerical IDs (UIDs) and GIDs.\",\n",
    "    \"The three types of accounts in Unix systems are root (UID 0, GID 0) with unlimited privileges, regular users, and system accounts.\",\n",
    "    \"/etc/shadow stores encrypted passwords and aging limits, is not readable by regular users, and enhances security by moving encrypted passwords out of the publicly readable /etc/passwd file.\",\n",
    "    \"In numeric mode, chmod uses numbers (4 for read, 2 for write, and 1 for execute) to define permissions for user, group, and others.\",\n",
    "    #unix lecture 10\n",
    "    \"AWK is used for analyzing text files or text streams, treating them as databases where records are identified with lines and fields with blank-separated words.\",\n",
    "    \"AWK identifies records with lines and fields with blank-separated words by default, but the record separator (RS) and field separator (FS) variables can be redefined.\",\n",
    "    \"The BEGIN section in an AWK script is used for instructions executed before processing any input, and the END section is for instructions executed after processing all input.\",\n",
    "    \"The special variable $0 in AWK represents the current line being processed.\",\n",
    "    \"If no condition is specified in an AWK script, the default behavior is to print the current line to the standard output.\",\n",
    "    #aml bayes\n",
    "    \"The Bayes classifier minimizes the Bayes risk R(d) by selecting the decision rule d∗(x) = argmaxiπip(x|i). This makes it optimal as it achieves the lowest possible error for a given distribution.\",\n",
    "    \"The risk for a classification rule is defined as R(d) = EX,Y[l(Y, d(X))], where (X, Y) follows the joint distribution PX,Y. For the 0-1 loss function, it represents the probability of a misclassification.\",\n",
    "    \"The 0-1 loss function is defined as l0-1(i, j) = I(i ≠ j), where I is an indicator function. It incurs a loss of 1 for incorrect decisions and 0 otherwise.\",\n",
    "    \"The kernel density estimator approximates the density p(x) using a kernel function K and a smoothing parameter hn. It is calculated as ˆpn(x) = (1 / nhn) ∑ K((x − Xi) / hn), where the sum is over all data points Xi.\",\n",
    "    \"The kNN method classifies an observation based on the most frequent class among its k nearest neighbors. Larger values of k reduce variance, but small k values like 1 or 3 are often used. Spatial indexing can address its O(n) time complexity.\",\n",
    "    #aml logistic\n",
    "    \"Logistic regression is based on fitting a logistic regression model to the data, modeling the dependence of the response variable π(x) on predictors.\",\n",
    "    \"Logistic classification is used in applications like displaying adverts on web pages with keywords as predictors and reliability scoring of bank clients based on their profile.\",\n",
    "    \"Estimation methods for logistic regression include Maximum Likelihood (ML), Blyth estimator, Regularized estimators (Lasso and Ridge), and Iteratively Reweighted Least Squares (IRLS).\",\n",
    "    \"The logistic function is used because it maps values to a range between 0 and 1 and provides interpretable odds ratios, such as π(x)/(1-π(x)).\",\n",
    "    \"The IRLS algorithm iteratively computes the Weighted Least Squares estimator for modified responses to find the parameters of the logistic regression model.\",\n",
    "    #aml evaluation\n",
    "    \"In a one-class approach, key measures include False Discovery Rate (FDR), True Positive Rate (TPR), precision, and recall, focusing on the performance for the distinguished class.\",\n",
    "    \"Precision is calculated as the intersection of true positives (t ∩ ˆt) divided by the total predicted positives (ˆt).\",\n",
    "    \"FDR, or False Discovery Rate, represents the proportion of false positives among all predicted positives and is equal to 1 minus precision.\",\n",
    "    \"K-fold cross-validation is used to evaluate a classifier's performance by dividing data into K parts, training on K-1 parts, and testing on the remaining part to estimate error and reduce bias.\",\n",
    "    \"Resubstitution estimators should not be used for comparing classifiers as they are overly optimistic, especially when classifiers differ in the number of parameters, leading to misleading conclusions.\"\n",
    "]"
   ]
  },
  {
   "cell_type": "code",
   "execution_count": 5,
   "metadata": {},
   "outputs": [
    {
     "name": "stderr",
     "output_type": "stream",
     "text": [
      "0it [00:00, ?it/s]The attention mask and the pad token id were not set. As a consequence, you may observe unexpected behavior. Please pass your input's `attention_mask` to obtain reliable results.\n",
      "Setting `pad_token_id` to `eos_token_id`:128001 for open-end generation.\n",
      "The attention mask is not set and cannot be inferred from input because pad token is same as eos token. As a consequence, you may observe unexpected behavior. Please pass your input's `attention_mask` to obtain reliable results.\n",
      "1it [00:15, 15.46s/it]The attention mask and the pad token id were not set. As a consequence, you may observe unexpected behavior. Please pass your input's `attention_mask` to obtain reliable results.\n",
      "Setting `pad_token_id` to `eos_token_id`:128001 for open-end generation.\n",
      "2it [00:29, 14.55s/it]The attention mask and the pad token id were not set. As a consequence, you may observe unexpected behavior. Please pass your input's `attention_mask` to obtain reliable results.\n",
      "Setting `pad_token_id` to `eos_token_id`:128001 for open-end generation.\n",
      "3it [00:45, 15.44s/it]The attention mask and the pad token id were not set. As a consequence, you may observe unexpected behavior. Please pass your input's `attention_mask` to obtain reliable results.\n",
      "Setting `pad_token_id` to `eos_token_id`:128001 for open-end generation.\n",
      "4it [00:57, 13.82s/it]The attention mask and the pad token id were not set. As a consequence, you may observe unexpected behavior. Please pass your input's `attention_mask` to obtain reliable results.\n",
      "Setting `pad_token_id` to `eos_token_id`:128001 for open-end generation.\n",
      "5it [01:05, 11.80s/it]The attention mask and the pad token id were not set. As a consequence, you may observe unexpected behavior. Please pass your input's `attention_mask` to obtain reliable results.\n",
      "Setting `pad_token_id` to `eos_token_id`:128001 for open-end generation.\n",
      "6it [01:11,  9.80s/it]The attention mask and the pad token id were not set. As a consequence, you may observe unexpected behavior. Please pass your input's `attention_mask` to obtain reliable results.\n",
      "Setting `pad_token_id` to `eos_token_id`:128001 for open-end generation.\n",
      "7it [01:16,  8.39s/it]The attention mask and the pad token id were not set. As a consequence, you may observe unexpected behavior. Please pass your input's `attention_mask` to obtain reliable results.\n",
      "Setting `pad_token_id` to `eos_token_id`:128001 for open-end generation.\n",
      "8it [01:24,  8.17s/it]The attention mask and the pad token id were not set. As a consequence, you may observe unexpected behavior. Please pass your input's `attention_mask` to obtain reliable results.\n",
      "Setting `pad_token_id` to `eos_token_id`:128001 for open-end generation.\n",
      "9it [01:29,  7.02s/it]The attention mask and the pad token id were not set. As a consequence, you may observe unexpected behavior. Please pass your input's `attention_mask` to obtain reliable results.\n",
      "Setting `pad_token_id` to `eos_token_id`:128001 for open-end generation.\n",
      "10it [01:36,  7.04s/it]The attention mask and the pad token id were not set. As a consequence, you may observe unexpected behavior. Please pass your input's `attention_mask` to obtain reliable results.\n",
      "Setting `pad_token_id` to `eos_token_id`:128001 for open-end generation.\n",
      "11it [01:45,  7.63s/it]The attention mask and the pad token id were not set. As a consequence, you may observe unexpected behavior. Please pass your input's `attention_mask` to obtain reliable results.\n",
      "Setting `pad_token_id` to `eos_token_id`:128001 for open-end generation.\n",
      "12it [01:53,  7.72s/it]The attention mask and the pad token id were not set. As a consequence, you may observe unexpected behavior. Please pass your input's `attention_mask` to obtain reliable results.\n",
      "Setting `pad_token_id` to `eos_token_id`:128001 for open-end generation.\n",
      "13it [01:58,  6.98s/it]The attention mask and the pad token id were not set. As a consequence, you may observe unexpected behavior. Please pass your input's `attention_mask` to obtain reliable results.\n",
      "Setting `pad_token_id` to `eos_token_id`:128001 for open-end generation.\n",
      "14it [01:58,  5.08s/it]The attention mask and the pad token id were not set. As a consequence, you may observe unexpected behavior. Please pass your input's `attention_mask` to obtain reliable results.\n",
      "Setting `pad_token_id` to `eos_token_id`:128001 for open-end generation.\n",
      "15it [02:04,  5.24s/it]The attention mask and the pad token id were not set. As a consequence, you may observe unexpected behavior. Please pass your input's `attention_mask` to obtain reliable results.\n",
      "Setting `pad_token_id` to `eos_token_id`:128001 for open-end generation.\n",
      "16it [02:11,  5.68s/it]The attention mask and the pad token id were not set. As a consequence, you may observe unexpected behavior. Please pass your input's `attention_mask` to obtain reliable results.\n",
      "Setting `pad_token_id` to `eos_token_id`:128001 for open-end generation.\n",
      "17it [02:21,  6.97s/it]The attention mask and the pad token id were not set. As a consequence, you may observe unexpected behavior. Please pass your input's `attention_mask` to obtain reliable results.\n",
      "Setting `pad_token_id` to `eos_token_id`:128001 for open-end generation.\n",
      "18it [02:26,  6.43s/it]The attention mask and the pad token id were not set. As a consequence, you may observe unexpected behavior. Please pass your input's `attention_mask` to obtain reliable results.\n",
      "Setting `pad_token_id` to `eos_token_id`:128001 for open-end generation.\n",
      "19it [02:33,  6.57s/it]The attention mask and the pad token id were not set. As a consequence, you may observe unexpected behavior. Please pass your input's `attention_mask` to obtain reliable results.\n",
      "Setting `pad_token_id` to `eos_token_id`:128001 for open-end generation.\n",
      "20it [02:38,  6.26s/it]The attention mask and the pad token id were not set. As a consequence, you may observe unexpected behavior. Please pass your input's `attention_mask` to obtain reliable results.\n",
      "Setting `pad_token_id` to `eos_token_id`:128001 for open-end generation.\n",
      "21it [02:41,  5.31s/it]The attention mask and the pad token id were not set. As a consequence, you may observe unexpected behavior. Please pass your input's `attention_mask` to obtain reliable results.\n",
      "Setting `pad_token_id` to `eos_token_id`:128001 for open-end generation.\n",
      "22it [02:48,  5.63s/it]The attention mask and the pad token id were not set. As a consequence, you may observe unexpected behavior. Please pass your input's `attention_mask` to obtain reliable results.\n",
      "Setting `pad_token_id` to `eos_token_id`:128001 for open-end generation.\n",
      "23it [02:57,  6.75s/it]The attention mask and the pad token id were not set. As a consequence, you may observe unexpected behavior. Please pass your input's `attention_mask` to obtain reliable results.\n",
      "Setting `pad_token_id` to `eos_token_id`:128001 for open-end generation.\n",
      "24it [03:02,  6.25s/it]The attention mask and the pad token id were not set. As a consequence, you may observe unexpected behavior. Please pass your input's `attention_mask` to obtain reliable results.\n",
      "Setting `pad_token_id` to `eos_token_id`:128001 for open-end generation.\n",
      "25it [03:12,  7.39s/it]The attention mask and the pad token id were not set. As a consequence, you may observe unexpected behavior. Please pass your input's `attention_mask` to obtain reliable results.\n",
      "Setting `pad_token_id` to `eos_token_id`:128001 for open-end generation.\n",
      "26it [03:24,  8.67s/it]The attention mask and the pad token id were not set. As a consequence, you may observe unexpected behavior. Please pass your input's `attention_mask` to obtain reliable results.\n",
      "Setting `pad_token_id` to `eos_token_id`:128001 for open-end generation.\n",
      "27it [03:34,  8.95s/it]The attention mask and the pad token id were not set. As a consequence, you may observe unexpected behavior. Please pass your input's `attention_mask` to obtain reliable results.\n",
      "Setting `pad_token_id` to `eos_token_id`:128001 for open-end generation.\n",
      "28it [03:41,  8.41s/it]The attention mask and the pad token id were not set. As a consequence, you may observe unexpected behavior. Please pass your input's `attention_mask` to obtain reliable results.\n",
      "Setting `pad_token_id` to `eos_token_id`:128001 for open-end generation.\n",
      "29it [03:52,  9.33s/it]The attention mask and the pad token id were not set. As a consequence, you may observe unexpected behavior. Please pass your input's `attention_mask` to obtain reliable results.\n",
      "Setting `pad_token_id` to `eos_token_id`:128001 for open-end generation.\n",
      "30it [03:58,  7.96s/it]\n"
     ]
    }
   ],
   "source": [
    "dataset = []\n",
    "\n",
    "for query,reference in tqdm(zip(sample_queries,expected_responses)):\n",
    "    answer, sources = mini.query(query)\n",
    "    sources = [source['excerpt'] for source in sources]\n",
    "    dataset.append({\n",
    "        'question': query,\n",
    "        'retrieved_contexts': sources,\n",
    "        'response': answer,\n",
    "        'reference': reference\n",
    "    })"
   ]
  },
  {
   "cell_type": "code",
   "execution_count": 6,
   "metadata": {},
   "outputs": [],
   "source": [
    "import json\n",
    "with open('mini_dataset.json', 'w') as fout: \n",
    "    json.dump(dataset, fout)"
   ]
  },
  {
   "cell_type": "code",
   "execution_count": 2,
   "metadata": {},
   "outputs": [
    {
     "name": "stderr",
     "output_type": "stream",
     "text": [
      "C:\\Users\\ltoma\\AppData\\Local\\Temp\\ipykernel_6184\\2665556121.py:4: LangChainDeprecationWarning: The class `ChatOllama` was deprecated in LangChain 0.3.1 and will be removed in 1.0.0. An updated version of the class exists in the :class:`~langchain-ollama package and should be used instead. To use it run `pip install -U :class:`~langchain-ollama` and import as `from :class:`~langchain_ollama import ChatOllama``.\n",
      "  llm = ChatOllama(model = \"llama3\")\n",
      "C:\\Users\\ltoma\\AppData\\Local\\Temp\\ipykernel_6184\\2665556121.py:5: LangChainDeprecationWarning: The class `OllamaEmbeddings` was deprecated in LangChain 0.3.1 and will be removed in 1.0.0. An updated version of the class exists in the :class:`~langchain-ollama package and should be used instead. To use it run `pip install -U :class:`~langchain-ollama` and import as `from :class:`~langchain_ollama import OllamaEmbeddings``.\n",
      "  embeddings = OllamaEmbeddings(model = \"llama3\")\n"
     ]
    }
   ],
   "source": [
    "from langchain_community.chat_models import ChatOllama\n",
    "from langchain_community.embeddings import OllamaEmbeddings\n",
    "\n",
    "llm = ChatOllama(model = \"llama3\")\n",
    "embeddings = OllamaEmbeddings(model = \"llama3\")"
   ]
  },
  {
   "cell_type": "code",
   "execution_count": 3,
   "metadata": {},
   "outputs": [],
   "source": [
    "import json\n",
    "with open('mini_dataset.json', 'r') as fin:\n",
    "    dataset = json.load(fin)"
   ]
  },
  {
   "cell_type": "code",
   "execution_count": 4,
   "metadata": {},
   "outputs": [
    {
     "name": "stderr",
     "output_type": "stream",
     "text": [
      "c:\\Users\\ltoma\\anaconda3\\envs\\NLP\\Lib\\site-packages\\tqdm\\auto.py:21: TqdmWarning: IProgress not found. Please update jupyter and ipywidgets. See https://ipywidgets.readthedocs.io/en/stable/user_install.html\n",
      "  from .autonotebook import tqdm as notebook_tqdm\n"
     ]
    }
   ],
   "source": [
    "from ragas import EvaluationDataset\n",
    "eval_dataset = EvaluationDataset.from_list(dataset)"
   ]
  },
  {
   "cell_type": "code",
   "execution_count": null,
   "metadata": {},
   "outputs": [
    {
     "name": "stderr",
     "output_type": "stream",
     "text": [
      "Evaluating:   3%|▎         | 4/120 [02:13<1:07:25, 34.87s/it]Exception raised in Job[13]: TimeoutError()\n",
      "Exception raised in Job[8]: TimeoutError()\n",
      "Exception raised in Job[0]: TimeoutError()\n",
      "Exception raised in Job[5]: TimeoutError()\n",
      "Exception raised in Job[1]: TimeoutError()\n",
      "Exception raised in Job[4]: TimeoutError()\n",
      "Exception raised in Job[9]: TimeoutError()\n",
      "Exception raised in Job[12]: TimeoutError()\n",
      "Evaluating:   4%|▍         | 5/120 [03:00<1:14:50, 39.04s/it]Exception raised in Job[14]: TimeoutError()\n",
      "Exception raised in Job[10]: TimeoutError()\n",
      "Exception raised in Job[2]: TimeoutError()\n",
      "Exception raised in Job[6]: TimeoutError()\n",
      "Exception raised in Job[16]: TimeoutError()\n",
      "Evaluating:  14%|█▍        | 17/120 [03:16<11:24,  6.65s/it] "
     ]
    }
   ],
   "source": [
    "from ragas import evaluate\n",
    "from ragas.metrics import context_precision, faithfulness, answer_relevancy, context_recall\n",
    "\n",
    "result = evaluate(eval_dataset, metrics=[context_precision, faithfulness, answer_relevancy, context_recall], llm=llm, embeddings=embeddings)"
   ]
  },
  {
   "cell_type": "code",
   "execution_count": 1,
   "metadata": {},
   "outputs": [
    {
     "ename": "NameError",
     "evalue": "name 'result' is not defined",
     "output_type": "error",
     "traceback": [
      "\u001b[1;31m---------------------------------------------------------------------------\u001b[0m",
      "\u001b[1;31mNameError\u001b[0m                                 Traceback (most recent call last)",
      "Cell \u001b[1;32mIn[1], line 1\u001b[0m\n\u001b[1;32m----> 1\u001b[0m \u001b[43mresult\u001b[49m\n",
      "\u001b[1;31mNameError\u001b[0m: name 'result' is not defined"
     ]
    }
   ],
   "source": [
    "result"
   ]
  },
  {
   "cell_type": "code",
   "execution_count": 1,
   "metadata": {},
   "outputs": [
    {
     "ename": "NameError",
     "evalue": "name 'result' is not defined",
     "output_type": "error",
     "traceback": [
      "\u001b[1;31m---------------------------------------------------------------------------\u001b[0m",
      "\u001b[1;31mNameError\u001b[0m                                 Traceback (most recent call last)",
      "Cell \u001b[1;32mIn[1], line 2\u001b[0m\n\u001b[0;32m      1\u001b[0m \u001b[38;5;28;01mwith\u001b[39;00m \u001b[38;5;28mopen\u001b[39m(\u001b[38;5;124m'\u001b[39m\u001b[38;5;124mmini_result.txt\u001b[39m\u001b[38;5;124m'\u001b[39m, \u001b[38;5;124m'\u001b[39m\u001b[38;5;124mw\u001b[39m\u001b[38;5;124m'\u001b[39m) \u001b[38;5;28;01mas\u001b[39;00m fout: \n\u001b[1;32m----> 2\u001b[0m     fout\u001b[38;5;241m.\u001b[39mwrite(\u001b[38;5;124mf\u001b[39m\u001b[38;5;124m\"\u001b[39m\u001b[38;5;124mContext Precision: \u001b[39m\u001b[38;5;132;01m{\u001b[39;00m\u001b[43mresult\u001b[49m[\u001b[38;5;124m'\u001b[39m\u001b[38;5;124mcontext_precision\u001b[39m\u001b[38;5;124m'\u001b[39m]\u001b[38;5;132;01m}\u001b[39;00m\u001b[38;5;130;01m\\n\u001b[39;00m\u001b[38;5;124m\"\u001b[39m)\n\u001b[0;32m      3\u001b[0m     fout\u001b[38;5;241m.\u001b[39mwrite(\u001b[38;5;124mf\u001b[39m\u001b[38;5;124m\"\u001b[39m\u001b[38;5;124mFaithfulness: \u001b[39m\u001b[38;5;132;01m{\u001b[39;00mresult[\u001b[38;5;124m'\u001b[39m\u001b[38;5;124mfaithfulness\u001b[39m\u001b[38;5;124m'\u001b[39m]\u001b[38;5;132;01m}\u001b[39;00m\u001b[38;5;130;01m\\n\u001b[39;00m\u001b[38;5;124m\"\u001b[39m)\n\u001b[0;32m      4\u001b[0m     fout\u001b[38;5;241m.\u001b[39mwrite(\u001b[38;5;124mf\u001b[39m\u001b[38;5;124m\"\u001b[39m\u001b[38;5;124mAnswer Relevancy: \u001b[39m\u001b[38;5;132;01m{\u001b[39;00mresult[\u001b[38;5;124m'\u001b[39m\u001b[38;5;124manswer_relevancy\u001b[39m\u001b[38;5;124m'\u001b[39m]\u001b[38;5;132;01m}\u001b[39;00m\u001b[38;5;130;01m\\n\u001b[39;00m\u001b[38;5;124m\"\u001b[39m)\n",
      "\u001b[1;31mNameError\u001b[0m: name 'result' is not defined"
     ]
    }
   ],
   "source": [
    "with open('mini_result.txt', 'w') as fout: \n",
    "    fout.write(f\"Context Precision: {result['context_precision']}\\n\")\n",
    "    fout.write(f\"Faithfulness: {result['faithfulness']}\\n\")\n",
    "    fout.write(f\"Answer Relevancy: {result['answer_relevancy']}\\n\")\n",
    "    fout.write(f\"Context Recall: {result['context_recall']}\\n\")"
   ]
  },
  {
   "cell_type": "code",
   "execution_count": null,
   "metadata": {},
   "outputs": [],
   "source": []
  }
 ],
 "metadata": {
  "kernelspec": {
   "display_name": "NLP",
   "language": "python",
   "name": "python3"
  },
  "language_info": {
   "codemirror_mode": {
    "name": "ipython",
    "version": 3
   },
   "file_extension": ".py",
   "mimetype": "text/x-python",
   "name": "python",
   "nbconvert_exporter": "python",
   "pygments_lexer": "ipython3",
   "version": "3.11.11"
  }
 },
 "nbformat": 4,
 "nbformat_minor": 2
}

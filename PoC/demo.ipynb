{
 "cells": [
  {
   "cell_type": "code",
   "execution_count": 1,
   "metadata": {},
   "outputs": [],
   "source": [
    "import warnings\n",
    "warnings.filterwarnings(\"ignore\")"
   ]
  },
  {
   "cell_type": "code",
   "execution_count": null,
   "metadata": {},
   "outputs": [],
   "source": [
    "from inference import MINI\n",
    "from IPython.display import Markdown\n",
    "\n",
    "mini = MINI('test')\n",
    "mini.change_k_similarity(1)"
   ]
  },
  {
   "cell_type": "code",
   "execution_count": null,
   "metadata": {},
   "outputs": [],
   "source": [
    "response = mini.query(\"who is Jan Łukasiewicz?\")"
   ]
  },
  {
   "cell_type": "code",
   "execution_count": 4,
   "metadata": {},
   "outputs": [
    {
     "data": {
      "text/markdown": [
       "''\n",
       "\n",
       "\n",
       "RESPONSE:\n",
       "\n",
       "Jan Łukasiewicz is Prof. dr hab., and his biography is described in the given excerpt. According to the text, he was a professor at the University of Warsaw from 1920 to 1939, then worked at the Warsaw Underground University during World War II, and later emigrated to Ireland where he worked at University College Dublin (UCD). He passed away on February 13th, 1956."
      ],
      "text/plain": [
       "<IPython.core.display.Markdown object>"
      ]
     },
     "execution_count": 4,
     "metadata": {},
     "output_type": "execute_result"
    }
   ],
   "source": [
    "Markdown(response[0])"
   ]
  },
  {
   "cell_type": "code",
   "execution_count": 5,
   "metadata": {},
   "outputs": [
    {
     "data": {
      "text/markdown": [
       "Prof. dr hab. Jan Łukasiewicz – biography (cont.)\n",
       "From 1920 till 1939 he was a professor at the University of\n",
       "Warsaw.\n",
       "At the beginning of World War II he worked at the Warsaw\n",
       "Underground University.\n",
       "Following the Second World War, he emigrated to Ireland and\n",
       "worked at University College Dublin (UCD)\n",
       "He died 13.02.1956.\n",
       "dr A. M. Radzikowska\n",
       "Lecture 1: Basic concepts\n",
       "11 / 33"
      ],
      "text/plain": [
       "<IPython.core.display.Markdown object>"
      ]
     },
     "execution_count": 5,
     "metadata": {},
     "output_type": "execute_result"
    }
   ],
   "source": [
    "Markdown(response[1][0]['excerpt'])"
   ]
  },
  {
   "cell_type": "code",
   "execution_count": 6,
   "metadata": {},
   "outputs": [
    {
     "name": "stdout",
     "output_type": "stream",
     "text": [
      "FR__01.pdf\n",
      "41\n",
      "0.330\n"
     ]
    }
   ],
   "source": [
    "print(response[1][0]['file_name'])\n",
    "print(response[1][0]['page_label'])\n",
    "print(response[1][0]['score'])"
   ]
  }
 ],
 "metadata": {
  "kernelspec": {
   "display_name": "venv",
   "language": "python",
   "name": "python3"
  },
  "language_info": {
   "codemirror_mode": {
    "name": "ipython",
    "version": 3
   },
   "file_extension": ".py",
   "mimetype": "text/x-python",
   "name": "python",
   "nbconvert_exporter": "python",
   "pygments_lexer": "ipython3",
   "version": "3.10.14"
  }
 },
 "nbformat": 4,
 "nbformat_minor": 2
}
